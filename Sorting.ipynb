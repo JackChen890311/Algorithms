{
 "cells": [
  {
   "cell_type": "code",
   "execution_count": 504,
   "metadata": {},
   "outputs": [],
   "source": [
    "import time\n",
    "import random\n",
    "N = 1e4\n",
    "unorder = [random.randint(1,2*N) for _ in range(int(N))]\n",
    "def swap(list,posa,posb):\n",
    "    list[posa], list[posb] = list[posb], list[posa]\n",
    "# print(unorder)"
   ]
  },
  {
   "attachments": {},
   "cell_type": "markdown",
   "metadata": {},
   "source": [
    "### Timsort: O(N log N) - [Ref](https://mailtojacklai.medium.com/%E6%BC%94%E7%AE%97%E6%B3%95-timsort-%E4%BB%A5%E4%BA%BA%E5%91%BD%E5%90%8D%E7%9A%84%E6%8E%92%E5%BA%8F%E6%B3%95-5d5e6ed7872c)\n",
    "Python 內建的 Sorting 方法，為 Insertion Sort + Merge Sort 的結合。"
   ]
  },
  {
   "cell_type": "code",
   "execution_count": 505,
   "metadata": {},
   "outputs": [
    {
     "name": "stdout",
     "output_type": "stream",
     "text": [
      "Assertion Passed! Time: 0.0029947757720947266\n"
     ]
    }
   ],
   "source": [
    "s = time.time()\n",
    "timsort = unorder.copy()\n",
    "\n",
    "timsort.sort()\n",
    "e = time.time()\n",
    "\n",
    "# print(timsort)\n",
    "print('Assertion Passed! Time:',e-s)"
   ]
  },
  {
   "attachments": {},
   "cell_type": "markdown",
   "metadata": {},
   "source": [
    "### Selection Sort: O(N^2)\n",
    "每次挑最大或最小的，依序移動到對應的位置。"
   ]
  },
  {
   "cell_type": "code",
   "execution_count": 506,
   "metadata": {},
   "outputs": [],
   "source": [
    "s = time.time()\n",
    "selection = unorder.copy()\n",
    "\n",
    "for i in range(len(selection)):\n",
    "    min = 1e10\n",
    "    minidx = -1\n",
    "    for j in range(i,len(selection)):\n",
    "        if selection[j] < min:\n",
    "            min = selection[j]\n",
    "            minidx = j\n",
    "    swap(selection,i,minidx)\n",
    "\n",
    "# print(selection)\n",
    "assert selection == timsort\n",
    "e = time.time()\n",
    "print('Assertion Passed! Time:',e-s)"
   ]
  },
  {
   "attachments": {},
   "cell_type": "markdown",
   "metadata": {},
   "source": [
    "### Insertion Sort: O(N^2)\n",
    "照順序每次拿一個，並插入正確的位置。"
   ]
  },
  {
   "cell_type": "code",
   "execution_count": null,
   "metadata": {},
   "outputs": [
    {
     "name": "stdout",
     "output_type": "stream",
     "text": [
      "Assertion Passed! Time: 0.0\n"
     ]
    }
   ],
   "source": [
    "s = time.time()\n",
    "insertion = unorder.copy()\n",
    "\n",
    "for i in range(1,len(insertion)):\n",
    "    item = insertion[i]\n",
    "    for j in range(i):\n",
    "        if insertion[j] > item or j == i:\n",
    "            _ = insertion.pop(i)\n",
    "            insertion.insert(j,item)\n",
    "            break\n",
    "        \n",
    "# print(insertion)\n",
    "assert insertion == timsort\n",
    "e = time.time()\n",
    "print('Assertion Passed! Time:',e-s)"
   ]
  },
  {
   "attachments": {},
   "cell_type": "markdown",
   "metadata": {},
   "source": [
    "### Bubble Sort: O(N^2)\n",
    "就像有個氣泡，兩兩比對後留下大的，每次都把最大的帶到最後面。"
   ]
  },
  {
   "cell_type": "code",
   "execution_count": null,
   "metadata": {},
   "outputs": [
    {
     "name": "stdout",
     "output_type": "stream",
     "text": [
      "Assertion Passed! Time: 0.0009987354278564453\n"
     ]
    }
   ],
   "source": [
    "s = time.time()\n",
    "bubble = unorder.copy()\n",
    "\n",
    "for i in range(len(bubble)):\n",
    "    for j in range(len(bubble)-i-1):\n",
    "        if bubble[j] > bubble[j+1]:\n",
    "            swap(bubble,j,j+1)\n",
    "\n",
    "# print(bubble)\n",
    "assert bubble == timsort\n",
    "e = time.time()\n",
    "print('Assertion Passed! Time:',e-s)"
   ]
  },
  {
   "attachments": {},
   "cell_type": "markdown",
   "metadata": {},
   "source": [
    "### Merge Sort: O(N log N)\n",
    "將陣列不斷細分，再將細分後的結果兩兩合併。"
   ]
  },
  {
   "cell_type": "code",
   "execution_count": null,
   "metadata": {},
   "outputs": [
    {
     "name": "stdout",
     "output_type": "stream",
     "text": [
      "Assertion Passed! Time: 0.0009572505950927734\n"
     ]
    }
   ],
   "source": [
    "s = time.time()\n",
    "merge = unorder.copy()\n",
    "\n",
    "def mergesort(list):\n",
    "    l = len(list)\n",
    "    if l == 1:\n",
    "        return list\n",
    "\n",
    "    left = mergesort(list[:l//2])\n",
    "    right = mergesort(list[l//2:])\n",
    "    leftcnt = 0\n",
    "    rightcnt = 0\n",
    "    result = []\n",
    "\n",
    "    while leftcnt < len(left) and rightcnt < len(right):\n",
    "        if left[leftcnt] < right[rightcnt]:\n",
    "            result.append(left[leftcnt])\n",
    "            leftcnt += 1\n",
    "        else:\n",
    "            result.append(right[rightcnt])\n",
    "            rightcnt += 1\n",
    "    \n",
    "    remainder = right if leftcnt == len(left) else left\n",
    "    remaindercnt = rightcnt if leftcnt == len(left) else leftcnt\n",
    "\n",
    "    while remaindercnt < len(remainder):\n",
    "        result.append(remainder[remaindercnt])\n",
    "        remaindercnt += 1\n",
    "\n",
    "    return result\n",
    "merge = mergesort(merge)\n",
    "\n",
    "# print(merge)\n",
    "assert merge == timsort\n",
    "e = time.time()\n",
    "print('Assertion Passed! Time:',e-s)"
   ]
  },
  {
   "attachments": {},
   "cell_type": "markdown",
   "metadata": {},
   "source": [
    "### Quick Sort: O(N log N) - [Ref](https://ithelp.ithome.com.tw/articles/10202330?sc=iThelpR)\n",
    "選定一個 Pivot，將比他小的丟左邊比他大的丟右邊，再針對左右兩部分進行一次相同的事情。"
   ]
  },
  {
   "cell_type": "code",
   "execution_count": null,
   "metadata": {},
   "outputs": [
    {
     "name": "stdout",
     "output_type": "stream",
     "text": [
      "Assertion Passed! Time: 0.0015521049499511719\n"
     ]
    }
   ],
   "source": [
    "s = time.time()\n",
    "quick = unorder.copy()\n",
    "\n",
    "def quicksort(list,s,e):\n",
    "    if s >= e:\n",
    "        return \n",
    "    elif s == e-1:\n",
    "        _ = swap(list,s,e) if list[s] > list[e] else None\n",
    "        return\n",
    "\n",
    "    pivot = list[s]\n",
    "    leftcnt = s+1\n",
    "    rightcnt = e\n",
    "\n",
    "    while leftcnt != rightcnt:\n",
    "        while list[leftcnt] <= pivot and leftcnt < rightcnt:\n",
    "            leftcnt += 1\n",
    "        while list[rightcnt] > pivot and leftcnt < rightcnt:\n",
    "            rightcnt -= 1\n",
    "        if leftcnt < rightcnt:\n",
    "            swap(list,leftcnt,rightcnt)\n",
    "    \n",
    "    if leftcnt == e and rightcnt != s+1 and pivot > list[leftcnt]:\n",
    "        leftcnt += 1\n",
    "    \n",
    "    swap(list,s,leftcnt-1)\n",
    "\n",
    "    quicksort(list,s,leftcnt-2)\n",
    "    quicksort(list,leftcnt,e)\n",
    "quicksort(quick,0,len(quick)-1)\n",
    "\n",
    "# print(quick)\n",
    "assert quick == timsort\n",
    "e = time.time()\n",
    "print('Assertion Passed! Time:',e-s)"
   ]
  },
  {
   "attachments": {},
   "cell_type": "markdown",
   "metadata": {},
   "source": [
    "### Heap Sort: O(N log N)\n",
    "對陣列做 Heapify 變成 Max Heap，再不斷把最大值往後擺。"
   ]
  },
  {
   "cell_type": "code",
   "execution_count": null,
   "metadata": {},
   "outputs": [
    {
     "name": "stdout",
     "output_type": "stream",
     "text": [
      "Assertion Passed! Time: 0.0010030269622802734\n"
     ]
    }
   ],
   "source": [
    "import math\n",
    "s = time.time()\n",
    "heap = unorder.copy()\n",
    "\n",
    "def heapify(list, pos, stop):\n",
    "    if 2 * pos + 1 <= stop:\n",
    "        maxNode = max(list[pos], list[2 * pos + 1])\n",
    "        maxPos = pos if maxNode == list[pos] else 2 * pos + 1\n",
    "        if 2 * pos + 2 <= stop:\n",
    "            maxNode = max(maxNode, list[2 * pos + 2])\n",
    "            maxPos = maxPos if maxNode != list[2 * pos + 2] else 2 * pos + 2\n",
    "        if maxPos != pos:\n",
    "            swap(list, pos, maxPos)\n",
    "            heapify(list, maxPos, stop)\n",
    "\n",
    "def heapsort(list):\n",
    "    N = len(list)\n",
    "    haveChild = math.ceil(N/2) - 1\n",
    "    for i in range(haveChild, -1, -1):\n",
    "        heapify(list, i, N-1)\n",
    "    for i in range(N):\n",
    "        swap(list, 0, N-1-i)\n",
    "        heapify(list, 0, N-2-i)\n",
    "heapsort(heap)\n",
    "\n",
    "# print(heap)\n",
    "assert heap == timsort\n",
    "e = time.time()\n",
    "print('Assertion Passed! Time:',e-s)"
   ]
  },
  {
   "cell_type": "code",
   "execution_count": null,
   "metadata": {},
   "outputs": [],
   "source": []
  }
 ],
 "metadata": {
  "kernelspec": {
   "display_name": "Python 3",
   "language": "python",
   "name": "python3"
  },
  "language_info": {
   "codemirror_mode": {
    "name": "ipython",
    "version": 3
   },
   "file_extension": ".py",
   "mimetype": "text/x-python",
   "name": "python",
   "nbconvert_exporter": "python",
   "pygments_lexer": "ipython3",
   "version": "3.10.11"
  },
  "orig_nbformat": 4
 },
 "nbformat": 4,
 "nbformat_minor": 2
}
